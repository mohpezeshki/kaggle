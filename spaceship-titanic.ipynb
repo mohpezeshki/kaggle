{
 "cells": [
  {
   "cell_type": "code",
   "execution_count": 1,
   "id": "91e9d0aa",
   "metadata": {
    "_cell_guid": "b1076dfc-b9ad-4769-8c92-a6c4dae69d19",
    "_uuid": "8f2839f25d086af736a60e9eeb907d3b93b6e0e5",
    "execution": {
     "iopub.execute_input": "2024-11-05T13:37:32.177450Z",
     "iopub.status.busy": "2024-11-05T13:37:32.176618Z",
     "iopub.status.idle": "2024-11-05T13:37:33.079280Z",
     "shell.execute_reply": "2024-11-05T13:37:33.078003Z"
    },
    "papermill": {
     "duration": 0.91644,
     "end_time": "2024-11-05T13:37:33.081847",
     "exception": false,
     "start_time": "2024-11-05T13:37:32.165407",
     "status": "completed"
    },
    "tags": []
   },
   "outputs": [
    {
     "name": "stdout",
     "output_type": "stream",
     "text": [
      "/kaggle/input/spaceship-titanic/sample_submission.csv\n",
      "/kaggle/input/spaceship-titanic/train.csv\n",
      "/kaggle/input/spaceship-titanic/test.csv\n"
     ]
    }
   ],
   "source": [
    "# This Python 3 environment comes with many helpful analytics libraries installed\n",
    "# It is defined by the kaggle/python Docker image: https://github.com/kaggle/docker-python\n",
    "# For example, here's several helpful packages to load\n",
    "\n",
    "import numpy as np # linear algebra\n",
    "import pandas as pd # data processing, CSV file I/O (e.g. pd.read_csv)\n",
    "\n",
    "# Input data files are available in the read-only \"../input/\" directory\n",
    "# For example, running this (by clicking run or pressing Shift+Enter) will list all files under the input directory\n",
    "\n",
    "import os\n",
    "for dirname, _, filenames in os.walk('/kaggle/input'):\n",
    "    for filename in filenames:\n",
    "        print(os.path.join(dirname, filename))\n",
    "\n",
    "# You can write up to 20GB to the current directory (/kaggle/working/) that gets preserved as output when you create a version using \"Save & Run All\" \n",
    "# You can also write temporary files to /kaggle/temp/, but they won't be saved outside of the current session"
   ]
  },
  {
   "cell_type": "markdown",
   "id": "40fcd08b",
   "metadata": {
    "papermill": {
     "duration": 0.007317,
     "end_time": "2024-11-05T13:37:33.097352",
     "exception": false,
     "start_time": "2024-11-05T13:37:33.090035",
     "status": "completed"
    },
    "tags": []
   },
   "source": [
    "# PREPROCESSING"
   ]
  },
  {
   "cell_type": "markdown",
   "id": "2f7a7fc3",
   "metadata": {
    "papermill": {
     "duration": 0.007724,
     "end_time": "2024-11-05T13:37:33.112877",
     "exception": false,
     "start_time": "2024-11-05T13:37:33.105153",
     "status": "completed"
    },
    "tags": []
   },
   "source": [
    "## 1- Load Dataset"
   ]
  },
  {
   "cell_type": "code",
   "execution_count": 2,
   "id": "39e9644b",
   "metadata": {
    "execution": {
     "iopub.execute_input": "2024-11-05T13:37:33.130550Z",
     "iopub.status.busy": "2024-11-05T13:37:33.129961Z",
     "iopub.status.idle": "2024-11-05T13:37:33.230095Z",
     "shell.execute_reply": "2024-11-05T13:37:33.228626Z"
    },
    "papermill": {
     "duration": 0.112131,
     "end_time": "2024-11-05T13:37:33.232937",
     "exception": false,
     "start_time": "2024-11-05T13:37:33.120806",
     "status": "completed"
    },
    "tags": []
   },
   "outputs": [
    {
     "name": "stdout",
     "output_type": "stream",
     "text": [
      "<class 'pandas.core.frame.DataFrame'>\n",
      "Index: 8693 entries, 0001_01 to 9280_02\n",
      "Data columns (total 13 columns):\n",
      " #   Column        Non-Null Count  Dtype  \n",
      "---  ------        --------------  -----  \n",
      " 0   HomePlanet    8492 non-null   object \n",
      " 1   CryoSleep     8476 non-null   object \n",
      " 2   Cabin         8494 non-null   object \n",
      " 3   Destination   8511 non-null   object \n",
      " 4   Age           8514 non-null   float64\n",
      " 5   VIP           8490 non-null   object \n",
      " 6   RoomService   8512 non-null   float64\n",
      " 7   FoodCourt     8510 non-null   float64\n",
      " 8   ShoppingMall  8485 non-null   float64\n",
      " 9   Spa           8510 non-null   float64\n",
      " 10  VRDeck        8505 non-null   float64\n",
      " 11  Name          8493 non-null   object \n",
      " 12  Transported   8693 non-null   bool   \n",
      "dtypes: bool(1), float64(6), object(6)\n",
      "memory usage: 891.4+ KB\n"
     ]
    }
   ],
   "source": [
    "data = pd.read_csv('/kaggle/input/spaceship-titanic/train.csv' , index_col='PassengerId')\n",
    "data.info()"
   ]
  },
  {
   "cell_type": "code",
   "execution_count": 3,
   "id": "9e979599",
   "metadata": {
    "execution": {
     "iopub.execute_input": "2024-11-05T13:37:33.252017Z",
     "iopub.status.busy": "2024-11-05T13:37:33.250945Z",
     "iopub.status.idle": "2024-11-05T13:37:33.282785Z",
     "shell.execute_reply": "2024-11-05T13:37:33.281501Z"
    },
    "papermill": {
     "duration": 0.044148,
     "end_time": "2024-11-05T13:37:33.285500",
     "exception": false,
     "start_time": "2024-11-05T13:37:33.241352",
     "status": "completed"
    },
    "tags": []
   },
   "outputs": [
    {
     "data": {
      "text/html": [
       "<div>\n",
       "<style scoped>\n",
       "    .dataframe tbody tr th:only-of-type {\n",
       "        vertical-align: middle;\n",
       "    }\n",
       "\n",
       "    .dataframe tbody tr th {\n",
       "        vertical-align: top;\n",
       "    }\n",
       "\n",
       "    .dataframe thead th {\n",
       "        text-align: right;\n",
       "    }\n",
       "</style>\n",
       "<table border=\"1\" class=\"dataframe\">\n",
       "  <thead>\n",
       "    <tr style=\"text-align: right;\">\n",
       "      <th></th>\n",
       "      <th>HomePlanet</th>\n",
       "      <th>CryoSleep</th>\n",
       "      <th>Cabin</th>\n",
       "      <th>Destination</th>\n",
       "      <th>Age</th>\n",
       "      <th>VIP</th>\n",
       "      <th>RoomService</th>\n",
       "      <th>FoodCourt</th>\n",
       "      <th>ShoppingMall</th>\n",
       "      <th>Spa</th>\n",
       "      <th>VRDeck</th>\n",
       "      <th>Name</th>\n",
       "    </tr>\n",
       "    <tr>\n",
       "      <th>PassengerId</th>\n",
       "      <th></th>\n",
       "      <th></th>\n",
       "      <th></th>\n",
       "      <th></th>\n",
       "      <th></th>\n",
       "      <th></th>\n",
       "      <th></th>\n",
       "      <th></th>\n",
       "      <th></th>\n",
       "      <th></th>\n",
       "      <th></th>\n",
       "      <th></th>\n",
       "    </tr>\n",
       "  </thead>\n",
       "  <tbody>\n",
       "    <tr>\n",
       "      <th>0001_01</th>\n",
       "      <td>Europa</td>\n",
       "      <td>False</td>\n",
       "      <td>B/0/P</td>\n",
       "      <td>TRAPPIST-1e</td>\n",
       "      <td>39.0</td>\n",
       "      <td>False</td>\n",
       "      <td>0.0</td>\n",
       "      <td>0.0</td>\n",
       "      <td>0.0</td>\n",
       "      <td>0.0</td>\n",
       "      <td>0.0</td>\n",
       "      <td>Maham Ofracculy</td>\n",
       "    </tr>\n",
       "    <tr>\n",
       "      <th>0002_01</th>\n",
       "      <td>Earth</td>\n",
       "      <td>False</td>\n",
       "      <td>F/0/S</td>\n",
       "      <td>TRAPPIST-1e</td>\n",
       "      <td>24.0</td>\n",
       "      <td>False</td>\n",
       "      <td>109.0</td>\n",
       "      <td>9.0</td>\n",
       "      <td>25.0</td>\n",
       "      <td>549.0</td>\n",
       "      <td>44.0</td>\n",
       "      <td>Juanna Vines</td>\n",
       "    </tr>\n",
       "    <tr>\n",
       "      <th>0003_01</th>\n",
       "      <td>Europa</td>\n",
       "      <td>False</td>\n",
       "      <td>A/0/S</td>\n",
       "      <td>TRAPPIST-1e</td>\n",
       "      <td>58.0</td>\n",
       "      <td>True</td>\n",
       "      <td>43.0</td>\n",
       "      <td>3576.0</td>\n",
       "      <td>0.0</td>\n",
       "      <td>6715.0</td>\n",
       "      <td>49.0</td>\n",
       "      <td>Altark Susent</td>\n",
       "    </tr>\n",
       "    <tr>\n",
       "      <th>0003_02</th>\n",
       "      <td>Europa</td>\n",
       "      <td>False</td>\n",
       "      <td>A/0/S</td>\n",
       "      <td>TRAPPIST-1e</td>\n",
       "      <td>33.0</td>\n",
       "      <td>False</td>\n",
       "      <td>0.0</td>\n",
       "      <td>1283.0</td>\n",
       "      <td>371.0</td>\n",
       "      <td>3329.0</td>\n",
       "      <td>193.0</td>\n",
       "      <td>Solam Susent</td>\n",
       "    </tr>\n",
       "    <tr>\n",
       "      <th>0004_01</th>\n",
       "      <td>Earth</td>\n",
       "      <td>False</td>\n",
       "      <td>F/1/S</td>\n",
       "      <td>TRAPPIST-1e</td>\n",
       "      <td>16.0</td>\n",
       "      <td>False</td>\n",
       "      <td>303.0</td>\n",
       "      <td>70.0</td>\n",
       "      <td>151.0</td>\n",
       "      <td>565.0</td>\n",
       "      <td>2.0</td>\n",
       "      <td>Willy Santantines</td>\n",
       "    </tr>\n",
       "  </tbody>\n",
       "</table>\n",
       "</div>"
      ],
      "text/plain": [
       "            HomePlanet CryoSleep  Cabin  Destination   Age    VIP  \\\n",
       "PassengerId                                                         \n",
       "0001_01         Europa     False  B/0/P  TRAPPIST-1e  39.0  False   \n",
       "0002_01          Earth     False  F/0/S  TRAPPIST-1e  24.0  False   \n",
       "0003_01         Europa     False  A/0/S  TRAPPIST-1e  58.0   True   \n",
       "0003_02         Europa     False  A/0/S  TRAPPIST-1e  33.0  False   \n",
       "0004_01          Earth     False  F/1/S  TRAPPIST-1e  16.0  False   \n",
       "\n",
       "             RoomService  FoodCourt  ShoppingMall     Spa  VRDeck  \\\n",
       "PassengerId                                                         \n",
       "0001_01              0.0        0.0           0.0     0.0     0.0   \n",
       "0002_01            109.0        9.0          25.0   549.0    44.0   \n",
       "0003_01             43.0     3576.0           0.0  6715.0    49.0   \n",
       "0003_02              0.0     1283.0         371.0  3329.0   193.0   \n",
       "0004_01            303.0       70.0         151.0   565.0     2.0   \n",
       "\n",
       "                          Name  \n",
       "PassengerId                     \n",
       "0001_01        Maham Ofracculy  \n",
       "0002_01           Juanna Vines  \n",
       "0003_01          Altark Susent  \n",
       "0003_02           Solam Susent  \n",
       "0004_01      Willy Santantines  "
      ]
     },
     "execution_count": 3,
     "metadata": {},
     "output_type": "execute_result"
    }
   ],
   "source": [
    "X = data.drop(['Transported']  , axis=1)\n",
    "y  = data['Transported']\n",
    "X.head()"
   ]
  },
  {
   "cell_type": "markdown",
   "id": "70429217",
   "metadata": {
    "papermill": {
     "duration": 0.009173,
     "end_time": "2024-11-05T13:37:33.303718",
     "exception": false,
     "start_time": "2024-11-05T13:37:33.294545",
     "status": "completed"
    },
    "tags": []
   },
   "source": [
    "### Seprate mixed column"
   ]
  },
  {
   "cell_type": "code",
   "execution_count": 4,
   "id": "2c7cebf5",
   "metadata": {
    "execution": {
     "iopub.execute_input": "2024-11-05T13:37:33.323166Z",
     "iopub.status.busy": "2024-11-05T13:37:33.322716Z",
     "iopub.status.idle": "2024-11-05T13:37:33.350365Z",
     "shell.execute_reply": "2024-11-05T13:37:33.349102Z"
    },
    "papermill": {
     "duration": 0.040716,
     "end_time": "2024-11-05T13:37:33.353358",
     "exception": false,
     "start_time": "2024-11-05T13:37:33.312642",
     "status": "completed"
    },
    "tags": []
   },
   "outputs": [],
   "source": [
    "X[['Cabin_deck' , 'Cabin_num' , 'Cabin_side']] = X['Cabin'].str.split('/', expand=True)\n",
    "X = data.drop(['Cabin' , 'Name'] , axis=1)"
   ]
  },
  {
   "cell_type": "markdown",
   "id": "ff3712bf",
   "metadata": {
    "papermill": {
     "duration": 0.008808,
     "end_time": "2024-11-05T13:37:33.370851",
     "exception": false,
     "start_time": "2024-11-05T13:37:33.362043",
     "status": "completed"
    },
    "tags": []
   },
   "source": [
    "## 2- Handeling missing values"
   ]
  },
  {
   "cell_type": "code",
   "execution_count": 5,
   "id": "dcf35880",
   "metadata": {
    "execution": {
     "iopub.execute_input": "2024-11-05T13:37:33.392074Z",
     "iopub.status.busy": "2024-11-05T13:37:33.391048Z",
     "iopub.status.idle": "2024-11-05T13:37:33.426114Z",
     "shell.execute_reply": "2024-11-05T13:37:33.424961Z"
    },
    "papermill": {
     "duration": 0.048352,
     "end_time": "2024-11-05T13:37:33.428658",
     "exception": false,
     "start_time": "2024-11-05T13:37:33.380306",
     "status": "completed"
    },
    "tags": []
   },
   "outputs": [
    {
     "data": {
      "text/html": [
       "<div>\n",
       "<style scoped>\n",
       "    .dataframe tbody tr th:only-of-type {\n",
       "        vertical-align: middle;\n",
       "    }\n",
       "\n",
       "    .dataframe tbody tr th {\n",
       "        vertical-align: top;\n",
       "    }\n",
       "\n",
       "    .dataframe thead th {\n",
       "        text-align: right;\n",
       "    }\n",
       "</style>\n",
       "<table border=\"1\" class=\"dataframe\">\n",
       "  <thead>\n",
       "    <tr style=\"text-align: right;\">\n",
       "      <th></th>\n",
       "      <th>HomePlanet</th>\n",
       "      <th>CryoSleep</th>\n",
       "      <th>Destination</th>\n",
       "      <th>Age</th>\n",
       "      <th>VIP</th>\n",
       "      <th>RoomService</th>\n",
       "      <th>FoodCourt</th>\n",
       "      <th>ShoppingMall</th>\n",
       "      <th>Spa</th>\n",
       "      <th>VRDeck</th>\n",
       "      <th>Transported</th>\n",
       "    </tr>\n",
       "    <tr>\n",
       "      <th>PassengerId</th>\n",
       "      <th></th>\n",
       "      <th></th>\n",
       "      <th></th>\n",
       "      <th></th>\n",
       "      <th></th>\n",
       "      <th></th>\n",
       "      <th></th>\n",
       "      <th></th>\n",
       "      <th></th>\n",
       "      <th></th>\n",
       "      <th></th>\n",
       "    </tr>\n",
       "  </thead>\n",
       "  <tbody>\n",
       "    <tr>\n",
       "      <th>0006_02</th>\n",
       "      <td>Earth</td>\n",
       "      <td>True</td>\n",
       "      <td>TRAPPIST-1e</td>\n",
       "      <td>28.0</td>\n",
       "      <td>False</td>\n",
       "      <td>0.0</td>\n",
       "      <td>0.0</td>\n",
       "      <td>0.0</td>\n",
       "      <td>0.0</td>\n",
       "      <td>NaN</td>\n",
       "      <td>True</td>\n",
       "    </tr>\n",
       "    <tr>\n",
       "      <th>0008_02</th>\n",
       "      <td>Europa</td>\n",
       "      <td>True</td>\n",
       "      <td>TRAPPIST-1e</td>\n",
       "      <td>34.0</td>\n",
       "      <td>False</td>\n",
       "      <td>0.0</td>\n",
       "      <td>0.0</td>\n",
       "      <td>NaN</td>\n",
       "      <td>0.0</td>\n",
       "      <td>0.0</td>\n",
       "      <td>True</td>\n",
       "    </tr>\n",
       "    <tr>\n",
       "      <th>0014_01</th>\n",
       "      <td>Mars</td>\n",
       "      <td>False</td>\n",
       "      <td>55 Cancri e</td>\n",
       "      <td>27.0</td>\n",
       "      <td>False</td>\n",
       "      <td>1286.0</td>\n",
       "      <td>122.0</td>\n",
       "      <td>NaN</td>\n",
       "      <td>0.0</td>\n",
       "      <td>0.0</td>\n",
       "      <td>False</td>\n",
       "    </tr>\n",
       "    <tr>\n",
       "      <th>0020_03</th>\n",
       "      <td>Earth</td>\n",
       "      <td>True</td>\n",
       "      <td>55 Cancri e</td>\n",
       "      <td>29.0</td>\n",
       "      <td>False</td>\n",
       "      <td>0.0</td>\n",
       "      <td>0.0</td>\n",
       "      <td>NaN</td>\n",
       "      <td>0.0</td>\n",
       "      <td>0.0</td>\n",
       "      <td>False</td>\n",
       "    </tr>\n",
       "    <tr>\n",
       "      <th>0020_05</th>\n",
       "      <td>Earth</td>\n",
       "      <td>True</td>\n",
       "      <td>PSO J318.5-22</td>\n",
       "      <td>1.0</td>\n",
       "      <td>False</td>\n",
       "      <td>NaN</td>\n",
       "      <td>0.0</td>\n",
       "      <td>0.0</td>\n",
       "      <td>0.0</td>\n",
       "      <td>0.0</td>\n",
       "      <td>False</td>\n",
       "    </tr>\n",
       "    <tr>\n",
       "      <th>...</th>\n",
       "      <td>...</td>\n",
       "      <td>...</td>\n",
       "      <td>...</td>\n",
       "      <td>...</td>\n",
       "      <td>...</td>\n",
       "      <td>...</td>\n",
       "      <td>...</td>\n",
       "      <td>...</td>\n",
       "      <td>...</td>\n",
       "      <td>...</td>\n",
       "      <td>...</td>\n",
       "    </tr>\n",
       "    <tr>\n",
       "      <th>9250_01</th>\n",
       "      <td>Europa</td>\n",
       "      <td>False</td>\n",
       "      <td>TRAPPIST-1e</td>\n",
       "      <td>29.0</td>\n",
       "      <td>False</td>\n",
       "      <td>0.0</td>\n",
       "      <td>2972.0</td>\n",
       "      <td>NaN</td>\n",
       "      <td>28.0</td>\n",
       "      <td>188.0</td>\n",
       "      <td>True</td>\n",
       "    </tr>\n",
       "    <tr>\n",
       "      <th>9257_01</th>\n",
       "      <td>NaN</td>\n",
       "      <td>False</td>\n",
       "      <td>TRAPPIST-1e</td>\n",
       "      <td>13.0</td>\n",
       "      <td>False</td>\n",
       "      <td>39.0</td>\n",
       "      <td>0.0</td>\n",
       "      <td>1085.0</td>\n",
       "      <td>24.0</td>\n",
       "      <td>0.0</td>\n",
       "      <td>False</td>\n",
       "    </tr>\n",
       "    <tr>\n",
       "      <th>9259_01</th>\n",
       "      <td>Earth</td>\n",
       "      <td>NaN</td>\n",
       "      <td>TRAPPIST-1e</td>\n",
       "      <td>44.0</td>\n",
       "      <td>False</td>\n",
       "      <td>1030.0</td>\n",
       "      <td>1015.0</td>\n",
       "      <td>0.0</td>\n",
       "      <td>11.0</td>\n",
       "      <td>NaN</td>\n",
       "      <td>True</td>\n",
       "    </tr>\n",
       "    <tr>\n",
       "      <th>9274_01</th>\n",
       "      <td>NaN</td>\n",
       "      <td>True</td>\n",
       "      <td>TRAPPIST-1e</td>\n",
       "      <td>23.0</td>\n",
       "      <td>False</td>\n",
       "      <td>0.0</td>\n",
       "      <td>0.0</td>\n",
       "      <td>0.0</td>\n",
       "      <td>0.0</td>\n",
       "      <td>0.0</td>\n",
       "      <td>True</td>\n",
       "    </tr>\n",
       "    <tr>\n",
       "      <th>9275_03</th>\n",
       "      <td>Europa</td>\n",
       "      <td>NaN</td>\n",
       "      <td>TRAPPIST-1e</td>\n",
       "      <td>30.0</td>\n",
       "      <td>False</td>\n",
       "      <td>0.0</td>\n",
       "      <td>3208.0</td>\n",
       "      <td>0.0</td>\n",
       "      <td>2.0</td>\n",
       "      <td>330.0</td>\n",
       "      <td>True</td>\n",
       "    </tr>\n",
       "  </tbody>\n",
       "</table>\n",
       "<p>1770 rows × 11 columns</p>\n",
       "</div>"
      ],
      "text/plain": [
       "            HomePlanet CryoSleep    Destination   Age    VIP  RoomService  \\\n",
       "PassengerId                                                                 \n",
       "0006_02          Earth      True    TRAPPIST-1e  28.0  False          0.0   \n",
       "0008_02         Europa      True    TRAPPIST-1e  34.0  False          0.0   \n",
       "0014_01           Mars     False    55 Cancri e  27.0  False       1286.0   \n",
       "0020_03          Earth      True    55 Cancri e  29.0  False          0.0   \n",
       "0020_05          Earth      True  PSO J318.5-22   1.0  False          NaN   \n",
       "...                ...       ...            ...   ...    ...          ...   \n",
       "9250_01         Europa     False    TRAPPIST-1e  29.0  False          0.0   \n",
       "9257_01            NaN     False    TRAPPIST-1e  13.0  False         39.0   \n",
       "9259_01          Earth       NaN    TRAPPIST-1e  44.0  False       1030.0   \n",
       "9274_01            NaN      True    TRAPPIST-1e  23.0  False          0.0   \n",
       "9275_03         Europa       NaN    TRAPPIST-1e  30.0  False          0.0   \n",
       "\n",
       "             FoodCourt  ShoppingMall   Spa  VRDeck  Transported  \n",
       "PassengerId                                                      \n",
       "0006_02            0.0           0.0   0.0     NaN         True  \n",
       "0008_02            0.0           NaN   0.0     0.0         True  \n",
       "0014_01          122.0           NaN   0.0     0.0        False  \n",
       "0020_03            0.0           NaN   0.0     0.0        False  \n",
       "0020_05            0.0           0.0   0.0     0.0        False  \n",
       "...                ...           ...   ...     ...          ...  \n",
       "9250_01         2972.0           NaN  28.0   188.0         True  \n",
       "9257_01            0.0        1085.0  24.0     0.0        False  \n",
       "9259_01         1015.0           0.0  11.0     NaN         True  \n",
       "9274_01            0.0           0.0   0.0     0.0         True  \n",
       "9275_03         3208.0           0.0   2.0   330.0         True  \n",
       "\n",
       "[1770 rows x 11 columns]"
      ]
     },
     "execution_count": 5,
     "metadata": {},
     "output_type": "execute_result"
    }
   ],
   "source": [
    "X[X.isnull().any(axis=1)]"
   ]
  },
  {
   "cell_type": "code",
   "execution_count": 6,
   "id": "61971bbf",
   "metadata": {
    "execution": {
     "iopub.execute_input": "2024-11-05T13:37:33.448210Z",
     "iopub.status.busy": "2024-11-05T13:37:33.447782Z",
     "iopub.status.idle": "2024-11-05T13:37:33.461784Z",
     "shell.execute_reply": "2024-11-05T13:37:33.460675Z"
    },
    "papermill": {
     "duration": 0.026749,
     "end_time": "2024-11-05T13:37:33.464285",
     "exception": false,
     "start_time": "2024-11-05T13:37:33.437536",
     "status": "completed"
    },
    "tags": []
   },
   "outputs": [
    {
     "data": {
      "text/plain": [
       "HomePlanet      201\n",
       "CryoSleep       217\n",
       "Destination     182\n",
       "Age             179\n",
       "VIP             203\n",
       "RoomService     181\n",
       "FoodCourt       183\n",
       "ShoppingMall    208\n",
       "Spa             183\n",
       "VRDeck          188\n",
       "Transported       0\n",
       "dtype: int64"
      ]
     },
     "execution_count": 6,
     "metadata": {},
     "output_type": "execute_result"
    }
   ],
   "source": [
    "X.isnull().sum() #Check null rows"
   ]
  },
  {
   "cell_type": "markdown",
   "id": "af7779eb",
   "metadata": {
    "papermill": {
     "duration": 0.008728,
     "end_time": "2024-11-05T13:37:33.482378",
     "exception": false,
     "start_time": "2024-11-05T13:37:33.473650",
     "status": "completed"
    },
    "tags": []
   },
   "source": [
    "### Seprate categorical and numerical columns"
   ]
  },
  {
   "cell_type": "code",
   "execution_count": 7,
   "id": "f7ec54c7",
   "metadata": {
    "execution": {
     "iopub.execute_input": "2024-11-05T13:37:33.502664Z",
     "iopub.status.busy": "2024-11-05T13:37:33.502193Z",
     "iopub.status.idle": "2024-11-05T13:37:33.516081Z",
     "shell.execute_reply": "2024-11-05T13:37:33.514891Z"
    },
    "papermill": {
     "duration": 0.026866,
     "end_time": "2024-11-05T13:37:33.518566",
     "exception": false,
     "start_time": "2024-11-05T13:37:33.491700",
     "status": "completed"
    },
    "tags": []
   },
   "outputs": [
    {
     "name": "stdout",
     "output_type": "stream",
     "text": [
      "Categorical features: ['HomePlanet', 'CryoSleep', 'Destination', 'VIP', 'Transported']\n",
      "Numerical features: ['Age', 'RoomService', 'FoodCourt', 'ShoppingMall', 'Spa', 'VRDeck']\n"
     ]
    }
   ],
   "source": [
    "categorical_features = [feature for feature in X.columns if len(X[feature].unique()) < 25]\n",
    "numerical_features = [feature for feature in X.columns if feature not in categorical_features]\n",
    "print(\"Categorical features:\" , categorical_features)\n",
    "print(\"Numerical features:\" , numerical_features)"
   ]
  },
  {
   "cell_type": "markdown",
   "id": "776bc753",
   "metadata": {
    "papermill": {
     "duration": 0.008901,
     "end_time": "2024-11-05T13:37:33.536816",
     "exception": false,
     "start_time": "2024-11-05T13:37:33.527915",
     "status": "completed"
    },
    "tags": []
   },
   "source": [
    "### Handling the missing values for **numerical** columns"
   ]
  },
  {
   "cell_type": "code",
   "execution_count": 8,
   "id": "863893c0",
   "metadata": {
    "execution": {
     "iopub.execute_input": "2024-11-05T13:37:33.557765Z",
     "iopub.status.busy": "2024-11-05T13:37:33.556645Z",
     "iopub.status.idle": "2024-11-05T13:37:35.186792Z",
     "shell.execute_reply": "2024-11-05T13:37:35.185673Z"
    },
    "papermill": {
     "duration": 1.643235,
     "end_time": "2024-11-05T13:37:35.189324",
     "exception": false,
     "start_time": "2024-11-05T13:37:33.546089",
     "status": "completed"
    },
    "tags": []
   },
   "outputs": [
    {
     "data": {
      "text/plain": [
       "Age             0\n",
       "RoomService     0\n",
       "FoodCourt       0\n",
       "ShoppingMall    0\n",
       "Spa             0\n",
       "VRDeck          0\n",
       "dtype: int64"
      ]
     },
     "execution_count": 8,
     "metadata": {},
     "output_type": "execute_result"
    }
   ],
   "source": [
    "from sklearn.impute import SimpleImputer\n",
    "imputer = SimpleImputer(missing_values=np.nan, strategy='mean')\n",
    "imputer.fit(X[numerical_features])\n",
    "X[numerical_features] = imputer.transform(X[numerical_features])\n",
    "X[numerical_features].isnull().sum()"
   ]
  },
  {
   "cell_type": "markdown",
   "id": "a4e4e438",
   "metadata": {
    "papermill": {
     "duration": 0.009016,
     "end_time": "2024-11-05T13:37:35.207807",
     "exception": false,
     "start_time": "2024-11-05T13:37:35.198791",
     "status": "completed"
    },
    "tags": []
   },
   "source": [
    "### handling the missing values for **categorical** columns"
   ]
  },
  {
   "cell_type": "code",
   "execution_count": 9,
   "id": "1fca6995",
   "metadata": {
    "execution": {
     "iopub.execute_input": "2024-11-05T13:37:35.228427Z",
     "iopub.status.busy": "2024-11-05T13:37:35.227824Z",
     "iopub.status.idle": "2024-11-05T13:37:35.253925Z",
     "shell.execute_reply": "2024-11-05T13:37:35.252748Z"
    },
    "papermill": {
     "duration": 0.039556,
     "end_time": "2024-11-05T13:37:35.256718",
     "exception": false,
     "start_time": "2024-11-05T13:37:35.217162",
     "status": "completed"
    },
    "tags": []
   },
   "outputs": [],
   "source": [
    "pd.set_option('future.no_silent_downcasting', True)\n",
    "X[categorical_features] = X[categorical_features].fillna(X[categorical_features].mode().iloc[0])"
   ]
  },
  {
   "cell_type": "code",
   "execution_count": 10,
   "id": "0d9a6d35",
   "metadata": {
    "execution": {
     "iopub.execute_input": "2024-11-05T13:37:35.277458Z",
     "iopub.status.busy": "2024-11-05T13:37:35.277043Z",
     "iopub.status.idle": "2024-11-05T13:37:35.291730Z",
     "shell.execute_reply": "2024-11-05T13:37:35.290632Z"
    },
    "papermill": {
     "duration": 0.028121,
     "end_time": "2024-11-05T13:37:35.294416",
     "exception": false,
     "start_time": "2024-11-05T13:37:35.266295",
     "status": "completed"
    },
    "tags": []
   },
   "outputs": [
    {
     "data": {
      "text/plain": [
       "HomePlanet     0\n",
       "CryoSleep      0\n",
       "Destination    0\n",
       "VIP            0\n",
       "Transported    0\n",
       "dtype: int64"
      ]
     },
     "execution_count": 10,
     "metadata": {},
     "output_type": "execute_result"
    }
   ],
   "source": [
    "X[categorical_features].isnull().sum()"
   ]
  },
  {
   "cell_type": "markdown",
   "id": "d54e0c0c",
   "metadata": {
    "papermill": {
     "duration": 0.009053,
     "end_time": "2024-11-05T13:37:35.312929",
     "exception": false,
     "start_time": "2024-11-05T13:37:35.303876",
     "status": "completed"
    },
    "tags": []
   },
   "source": [
    "## 3- Encoding the categorical data"
   ]
  },
  {
   "cell_type": "code",
   "execution_count": 11,
   "id": "ac2ab974",
   "metadata": {
    "execution": {
     "iopub.execute_input": "2024-11-05T13:37:35.334286Z",
     "iopub.status.busy": "2024-11-05T13:37:35.333274Z",
     "iopub.status.idle": "2024-11-05T13:37:35.354024Z",
     "shell.execute_reply": "2024-11-05T13:37:35.352857Z"
    },
    "papermill": {
     "duration": 0.034164,
     "end_time": "2024-11-05T13:37:35.356619",
     "exception": false,
     "start_time": "2024-11-05T13:37:35.322455",
     "status": "completed"
    },
    "tags": []
   },
   "outputs": [
    {
     "data": {
      "text/html": [
       "<div>\n",
       "<style scoped>\n",
       "    .dataframe tbody tr th:only-of-type {\n",
       "        vertical-align: middle;\n",
       "    }\n",
       "\n",
       "    .dataframe tbody tr th {\n",
       "        vertical-align: top;\n",
       "    }\n",
       "\n",
       "    .dataframe thead th {\n",
       "        text-align: right;\n",
       "    }\n",
       "</style>\n",
       "<table border=\"1\" class=\"dataframe\">\n",
       "  <thead>\n",
       "    <tr style=\"text-align: right;\">\n",
       "      <th></th>\n",
       "      <th>HomePlanet</th>\n",
       "      <th>CryoSleep</th>\n",
       "      <th>Destination</th>\n",
       "      <th>Age</th>\n",
       "      <th>VIP</th>\n",
       "      <th>RoomService</th>\n",
       "      <th>FoodCourt</th>\n",
       "      <th>ShoppingMall</th>\n",
       "      <th>Spa</th>\n",
       "      <th>VRDeck</th>\n",
       "      <th>Transported</th>\n",
       "    </tr>\n",
       "    <tr>\n",
       "      <th>PassengerId</th>\n",
       "      <th></th>\n",
       "      <th></th>\n",
       "      <th></th>\n",
       "      <th></th>\n",
       "      <th></th>\n",
       "      <th></th>\n",
       "      <th></th>\n",
       "      <th></th>\n",
       "      <th></th>\n",
       "      <th></th>\n",
       "      <th></th>\n",
       "    </tr>\n",
       "  </thead>\n",
       "  <tbody>\n",
       "    <tr>\n",
       "      <th>0001_01</th>\n",
       "      <td>Europa</td>\n",
       "      <td>False</td>\n",
       "      <td>TRAPPIST-1e</td>\n",
       "      <td>39.0</td>\n",
       "      <td>False</td>\n",
       "      <td>0.0</td>\n",
       "      <td>0.0</td>\n",
       "      <td>0.0</td>\n",
       "      <td>0.0</td>\n",
       "      <td>0.0</td>\n",
       "      <td>False</td>\n",
       "    </tr>\n",
       "    <tr>\n",
       "      <th>0002_01</th>\n",
       "      <td>Earth</td>\n",
       "      <td>False</td>\n",
       "      <td>TRAPPIST-1e</td>\n",
       "      <td>24.0</td>\n",
       "      <td>False</td>\n",
       "      <td>109.0</td>\n",
       "      <td>9.0</td>\n",
       "      <td>25.0</td>\n",
       "      <td>549.0</td>\n",
       "      <td>44.0</td>\n",
       "      <td>True</td>\n",
       "    </tr>\n",
       "    <tr>\n",
       "      <th>0003_01</th>\n",
       "      <td>Europa</td>\n",
       "      <td>False</td>\n",
       "      <td>TRAPPIST-1e</td>\n",
       "      <td>58.0</td>\n",
       "      <td>True</td>\n",
       "      <td>43.0</td>\n",
       "      <td>3576.0</td>\n",
       "      <td>0.0</td>\n",
       "      <td>6715.0</td>\n",
       "      <td>49.0</td>\n",
       "      <td>False</td>\n",
       "    </tr>\n",
       "    <tr>\n",
       "      <th>0003_02</th>\n",
       "      <td>Europa</td>\n",
       "      <td>False</td>\n",
       "      <td>TRAPPIST-1e</td>\n",
       "      <td>33.0</td>\n",
       "      <td>False</td>\n",
       "      <td>0.0</td>\n",
       "      <td>1283.0</td>\n",
       "      <td>371.0</td>\n",
       "      <td>3329.0</td>\n",
       "      <td>193.0</td>\n",
       "      <td>False</td>\n",
       "    </tr>\n",
       "    <tr>\n",
       "      <th>0004_01</th>\n",
       "      <td>Earth</td>\n",
       "      <td>False</td>\n",
       "      <td>TRAPPIST-1e</td>\n",
       "      <td>16.0</td>\n",
       "      <td>False</td>\n",
       "      <td>303.0</td>\n",
       "      <td>70.0</td>\n",
       "      <td>151.0</td>\n",
       "      <td>565.0</td>\n",
       "      <td>2.0</td>\n",
       "      <td>True</td>\n",
       "    </tr>\n",
       "  </tbody>\n",
       "</table>\n",
       "</div>"
      ],
      "text/plain": [
       "            HomePlanet CryoSleep  Destination   Age    VIP  RoomService  \\\n",
       "PassengerId                                                               \n",
       "0001_01         Europa     False  TRAPPIST-1e  39.0  False          0.0   \n",
       "0002_01          Earth     False  TRAPPIST-1e  24.0  False        109.0   \n",
       "0003_01         Europa     False  TRAPPIST-1e  58.0   True         43.0   \n",
       "0003_02         Europa     False  TRAPPIST-1e  33.0  False          0.0   \n",
       "0004_01          Earth     False  TRAPPIST-1e  16.0  False        303.0   \n",
       "\n",
       "             FoodCourt  ShoppingMall     Spa  VRDeck  Transported  \n",
       "PassengerId                                                        \n",
       "0001_01            0.0           0.0     0.0     0.0        False  \n",
       "0002_01            9.0          25.0   549.0    44.0         True  \n",
       "0003_01         3576.0           0.0  6715.0    49.0        False  \n",
       "0003_02         1283.0         371.0  3329.0   193.0        False  \n",
       "0004_01           70.0         151.0   565.0     2.0         True  "
      ]
     },
     "execution_count": 11,
     "metadata": {},
     "output_type": "execute_result"
    }
   ],
   "source": [
    "X.head()"
   ]
  },
  {
   "cell_type": "code",
   "execution_count": null,
   "id": "989ad7dc",
   "metadata": {
    "papermill": {
     "duration": 0.009666,
     "end_time": "2024-11-05T13:37:35.376220",
     "exception": false,
     "start_time": "2024-11-05T13:37:35.366554",
     "status": "completed"
    },
    "tags": []
   },
   "outputs": [],
   "source": []
  },
  {
   "cell_type": "code",
   "execution_count": 12,
   "id": "96202d60",
   "metadata": {
    "execution": {
     "iopub.execute_input": "2024-11-05T13:37:35.399618Z",
     "iopub.status.busy": "2024-11-05T13:37:35.399118Z",
     "iopub.status.idle": "2024-11-05T13:37:35.453825Z",
     "shell.execute_reply": "2024-11-05T13:37:35.452643Z"
    },
    "papermill": {
     "duration": 0.070614,
     "end_time": "2024-11-05T13:37:35.456841",
     "exception": false,
     "start_time": "2024-11-05T13:37:35.386227",
     "status": "completed"
    },
    "tags": []
   },
   "outputs": [],
   "source": [
    "from sklearn.compose import ColumnTransformer\n",
    "from sklearn.preprocessing import OneHotEncoder\n",
    "\n",
    "ohe = OneHotEncoder(sparse_output=False, drop=None)\n",
    "ct = ColumnTransformer(transformers=[('encoder',ohe , categorical_features)], remainder='passthrough')\n",
    "X_transformed_df = ct.fit_transform(X)\n",
    "cat_feature = ct.named_transformers_['encoder'].get_feature_names_out(categorical_features)\n",
    "\n",
    "all_feature_names = list(cat_feature) + numerical_features\n",
    "X_transformed_df =pd.DataFrame(X_transformed_df, columns=all_feature_names , index=X.index)"
   ]
  },
  {
   "cell_type": "code",
   "execution_count": 13,
   "id": "8044f602",
   "metadata": {
    "execution": {
     "iopub.execute_input": "2024-11-05T13:37:35.478691Z",
     "iopub.status.busy": "2024-11-05T13:37:35.478199Z",
     "iopub.status.idle": "2024-11-05T13:37:35.523056Z",
     "shell.execute_reply": "2024-11-05T13:37:35.521867Z"
    },
    "papermill": {
     "duration": 0.059021,
     "end_time": "2024-11-05T13:37:35.525711",
     "exception": false,
     "start_time": "2024-11-05T13:37:35.466690",
     "status": "completed"
    },
    "tags": []
   },
   "outputs": [
    {
     "data": {
      "text/html": [
       "<div>\n",
       "<style scoped>\n",
       "    .dataframe tbody tr th:only-of-type {\n",
       "        vertical-align: middle;\n",
       "    }\n",
       "\n",
       "    .dataframe tbody tr th {\n",
       "        vertical-align: top;\n",
       "    }\n",
       "\n",
       "    .dataframe thead th {\n",
       "        text-align: right;\n",
       "    }\n",
       "</style>\n",
       "<table border=\"1\" class=\"dataframe\">\n",
       "  <thead>\n",
       "    <tr style=\"text-align: right;\">\n",
       "      <th></th>\n",
       "      <th>HomePlanet_Earth</th>\n",
       "      <th>HomePlanet_Europa</th>\n",
       "      <th>HomePlanet_Mars</th>\n",
       "      <th>CryoSleep_False</th>\n",
       "      <th>CryoSleep_True</th>\n",
       "      <th>Destination_55 Cancri e</th>\n",
       "      <th>Destination_PSO J318.5-22</th>\n",
       "      <th>Destination_TRAPPIST-1e</th>\n",
       "      <th>VIP_False</th>\n",
       "      <th>VIP_True</th>\n",
       "      <th>Transported_False</th>\n",
       "      <th>Transported_True</th>\n",
       "      <th>Age</th>\n",
       "      <th>RoomService</th>\n",
       "      <th>FoodCourt</th>\n",
       "      <th>ShoppingMall</th>\n",
       "      <th>Spa</th>\n",
       "      <th>VRDeck</th>\n",
       "    </tr>\n",
       "    <tr>\n",
       "      <th>PassengerId</th>\n",
       "      <th></th>\n",
       "      <th></th>\n",
       "      <th></th>\n",
       "      <th></th>\n",
       "      <th></th>\n",
       "      <th></th>\n",
       "      <th></th>\n",
       "      <th></th>\n",
       "      <th></th>\n",
       "      <th></th>\n",
       "      <th></th>\n",
       "      <th></th>\n",
       "      <th></th>\n",
       "      <th></th>\n",
       "      <th></th>\n",
       "      <th></th>\n",
       "      <th></th>\n",
       "      <th></th>\n",
       "    </tr>\n",
       "  </thead>\n",
       "  <tbody>\n",
       "    <tr>\n",
       "      <th>0001_01</th>\n",
       "      <td>0.0</td>\n",
       "      <td>1.0</td>\n",
       "      <td>0.0</td>\n",
       "      <td>1.0</td>\n",
       "      <td>0.0</td>\n",
       "      <td>0.0</td>\n",
       "      <td>0.0</td>\n",
       "      <td>1.0</td>\n",
       "      <td>1.0</td>\n",
       "      <td>0.0</td>\n",
       "      <td>1.0</td>\n",
       "      <td>0.0</td>\n",
       "      <td>39.0</td>\n",
       "      <td>0.0</td>\n",
       "      <td>0.0</td>\n",
       "      <td>0.0</td>\n",
       "      <td>0.0</td>\n",
       "      <td>0.0</td>\n",
       "    </tr>\n",
       "    <tr>\n",
       "      <th>0002_01</th>\n",
       "      <td>1.0</td>\n",
       "      <td>0.0</td>\n",
       "      <td>0.0</td>\n",
       "      <td>1.0</td>\n",
       "      <td>0.0</td>\n",
       "      <td>0.0</td>\n",
       "      <td>0.0</td>\n",
       "      <td>1.0</td>\n",
       "      <td>1.0</td>\n",
       "      <td>0.0</td>\n",
       "      <td>0.0</td>\n",
       "      <td>1.0</td>\n",
       "      <td>24.0</td>\n",
       "      <td>109.0</td>\n",
       "      <td>9.0</td>\n",
       "      <td>25.0</td>\n",
       "      <td>549.0</td>\n",
       "      <td>44.0</td>\n",
       "    </tr>\n",
       "    <tr>\n",
       "      <th>0003_01</th>\n",
       "      <td>0.0</td>\n",
       "      <td>1.0</td>\n",
       "      <td>0.0</td>\n",
       "      <td>1.0</td>\n",
       "      <td>0.0</td>\n",
       "      <td>0.0</td>\n",
       "      <td>0.0</td>\n",
       "      <td>1.0</td>\n",
       "      <td>0.0</td>\n",
       "      <td>1.0</td>\n",
       "      <td>1.0</td>\n",
       "      <td>0.0</td>\n",
       "      <td>58.0</td>\n",
       "      <td>43.0</td>\n",
       "      <td>3576.0</td>\n",
       "      <td>0.0</td>\n",
       "      <td>6715.0</td>\n",
       "      <td>49.0</td>\n",
       "    </tr>\n",
       "    <tr>\n",
       "      <th>0003_02</th>\n",
       "      <td>0.0</td>\n",
       "      <td>1.0</td>\n",
       "      <td>0.0</td>\n",
       "      <td>1.0</td>\n",
       "      <td>0.0</td>\n",
       "      <td>0.0</td>\n",
       "      <td>0.0</td>\n",
       "      <td>1.0</td>\n",
       "      <td>1.0</td>\n",
       "      <td>0.0</td>\n",
       "      <td>1.0</td>\n",
       "      <td>0.0</td>\n",
       "      <td>33.0</td>\n",
       "      <td>0.0</td>\n",
       "      <td>1283.0</td>\n",
       "      <td>371.0</td>\n",
       "      <td>3329.0</td>\n",
       "      <td>193.0</td>\n",
       "    </tr>\n",
       "    <tr>\n",
       "      <th>0004_01</th>\n",
       "      <td>1.0</td>\n",
       "      <td>0.0</td>\n",
       "      <td>0.0</td>\n",
       "      <td>1.0</td>\n",
       "      <td>0.0</td>\n",
       "      <td>0.0</td>\n",
       "      <td>0.0</td>\n",
       "      <td>1.0</td>\n",
       "      <td>1.0</td>\n",
       "      <td>0.0</td>\n",
       "      <td>0.0</td>\n",
       "      <td>1.0</td>\n",
       "      <td>16.0</td>\n",
       "      <td>303.0</td>\n",
       "      <td>70.0</td>\n",
       "      <td>151.0</td>\n",
       "      <td>565.0</td>\n",
       "      <td>2.0</td>\n",
       "    </tr>\n",
       "    <tr>\n",
       "      <th>...</th>\n",
       "      <td>...</td>\n",
       "      <td>...</td>\n",
       "      <td>...</td>\n",
       "      <td>...</td>\n",
       "      <td>...</td>\n",
       "      <td>...</td>\n",
       "      <td>...</td>\n",
       "      <td>...</td>\n",
       "      <td>...</td>\n",
       "      <td>...</td>\n",
       "      <td>...</td>\n",
       "      <td>...</td>\n",
       "      <td>...</td>\n",
       "      <td>...</td>\n",
       "      <td>...</td>\n",
       "      <td>...</td>\n",
       "      <td>...</td>\n",
       "      <td>...</td>\n",
       "    </tr>\n",
       "    <tr>\n",
       "      <th>9276_01</th>\n",
       "      <td>0.0</td>\n",
       "      <td>1.0</td>\n",
       "      <td>0.0</td>\n",
       "      <td>1.0</td>\n",
       "      <td>0.0</td>\n",
       "      <td>1.0</td>\n",
       "      <td>0.0</td>\n",
       "      <td>0.0</td>\n",
       "      <td>0.0</td>\n",
       "      <td>1.0</td>\n",
       "      <td>1.0</td>\n",
       "      <td>0.0</td>\n",
       "      <td>41.0</td>\n",
       "      <td>0.0</td>\n",
       "      <td>6819.0</td>\n",
       "      <td>0.0</td>\n",
       "      <td>1643.0</td>\n",
       "      <td>74.0</td>\n",
       "    </tr>\n",
       "    <tr>\n",
       "      <th>9278_01</th>\n",
       "      <td>1.0</td>\n",
       "      <td>0.0</td>\n",
       "      <td>0.0</td>\n",
       "      <td>0.0</td>\n",
       "      <td>1.0</td>\n",
       "      <td>0.0</td>\n",
       "      <td>1.0</td>\n",
       "      <td>0.0</td>\n",
       "      <td>1.0</td>\n",
       "      <td>0.0</td>\n",
       "      <td>1.0</td>\n",
       "      <td>0.0</td>\n",
       "      <td>18.0</td>\n",
       "      <td>0.0</td>\n",
       "      <td>0.0</td>\n",
       "      <td>0.0</td>\n",
       "      <td>0.0</td>\n",
       "      <td>0.0</td>\n",
       "    </tr>\n",
       "    <tr>\n",
       "      <th>9279_01</th>\n",
       "      <td>1.0</td>\n",
       "      <td>0.0</td>\n",
       "      <td>0.0</td>\n",
       "      <td>1.0</td>\n",
       "      <td>0.0</td>\n",
       "      <td>0.0</td>\n",
       "      <td>0.0</td>\n",
       "      <td>1.0</td>\n",
       "      <td>1.0</td>\n",
       "      <td>0.0</td>\n",
       "      <td>0.0</td>\n",
       "      <td>1.0</td>\n",
       "      <td>26.0</td>\n",
       "      <td>0.0</td>\n",
       "      <td>0.0</td>\n",
       "      <td>1872.0</td>\n",
       "      <td>1.0</td>\n",
       "      <td>0.0</td>\n",
       "    </tr>\n",
       "    <tr>\n",
       "      <th>9280_01</th>\n",
       "      <td>0.0</td>\n",
       "      <td>1.0</td>\n",
       "      <td>0.0</td>\n",
       "      <td>1.0</td>\n",
       "      <td>0.0</td>\n",
       "      <td>1.0</td>\n",
       "      <td>0.0</td>\n",
       "      <td>0.0</td>\n",
       "      <td>1.0</td>\n",
       "      <td>0.0</td>\n",
       "      <td>1.0</td>\n",
       "      <td>0.0</td>\n",
       "      <td>32.0</td>\n",
       "      <td>0.0</td>\n",
       "      <td>1049.0</td>\n",
       "      <td>0.0</td>\n",
       "      <td>353.0</td>\n",
       "      <td>3235.0</td>\n",
       "    </tr>\n",
       "    <tr>\n",
       "      <th>9280_02</th>\n",
       "      <td>0.0</td>\n",
       "      <td>1.0</td>\n",
       "      <td>0.0</td>\n",
       "      <td>1.0</td>\n",
       "      <td>0.0</td>\n",
       "      <td>0.0</td>\n",
       "      <td>0.0</td>\n",
       "      <td>1.0</td>\n",
       "      <td>1.0</td>\n",
       "      <td>0.0</td>\n",
       "      <td>0.0</td>\n",
       "      <td>1.0</td>\n",
       "      <td>44.0</td>\n",
       "      <td>126.0</td>\n",
       "      <td>4688.0</td>\n",
       "      <td>0.0</td>\n",
       "      <td>0.0</td>\n",
       "      <td>12.0</td>\n",
       "    </tr>\n",
       "  </tbody>\n",
       "</table>\n",
       "<p>8693 rows × 18 columns</p>\n",
       "</div>"
      ],
      "text/plain": [
       "             HomePlanet_Earth  HomePlanet_Europa  HomePlanet_Mars  \\\n",
       "PassengerId                                                         \n",
       "0001_01                   0.0                1.0              0.0   \n",
       "0002_01                   1.0                0.0              0.0   \n",
       "0003_01                   0.0                1.0              0.0   \n",
       "0003_02                   0.0                1.0              0.0   \n",
       "0004_01                   1.0                0.0              0.0   \n",
       "...                       ...                ...              ...   \n",
       "9276_01                   0.0                1.0              0.0   \n",
       "9278_01                   1.0                0.0              0.0   \n",
       "9279_01                   1.0                0.0              0.0   \n",
       "9280_01                   0.0                1.0              0.0   \n",
       "9280_02                   0.0                1.0              0.0   \n",
       "\n",
       "             CryoSleep_False  CryoSleep_True  Destination_55 Cancri e  \\\n",
       "PassengerId                                                             \n",
       "0001_01                  1.0             0.0                      0.0   \n",
       "0002_01                  1.0             0.0                      0.0   \n",
       "0003_01                  1.0             0.0                      0.0   \n",
       "0003_02                  1.0             0.0                      0.0   \n",
       "0004_01                  1.0             0.0                      0.0   \n",
       "...                      ...             ...                      ...   \n",
       "9276_01                  1.0             0.0                      1.0   \n",
       "9278_01                  0.0             1.0                      0.0   \n",
       "9279_01                  1.0             0.0                      0.0   \n",
       "9280_01                  1.0             0.0                      1.0   \n",
       "9280_02                  1.0             0.0                      0.0   \n",
       "\n",
       "             Destination_PSO J318.5-22  Destination_TRAPPIST-1e  VIP_False  \\\n",
       "PassengerId                                                                  \n",
       "0001_01                            0.0                      1.0        1.0   \n",
       "0002_01                            0.0                      1.0        1.0   \n",
       "0003_01                            0.0                      1.0        0.0   \n",
       "0003_02                            0.0                      1.0        1.0   \n",
       "0004_01                            0.0                      1.0        1.0   \n",
       "...                                ...                      ...        ...   \n",
       "9276_01                            0.0                      0.0        0.0   \n",
       "9278_01                            1.0                      0.0        1.0   \n",
       "9279_01                            0.0                      1.0        1.0   \n",
       "9280_01                            0.0                      0.0        1.0   \n",
       "9280_02                            0.0                      1.0        1.0   \n",
       "\n",
       "             VIP_True  Transported_False  Transported_True   Age  RoomService  \\\n",
       "PassengerId                                                                     \n",
       "0001_01           0.0                1.0               0.0  39.0          0.0   \n",
       "0002_01           0.0                0.0               1.0  24.0        109.0   \n",
       "0003_01           1.0                1.0               0.0  58.0         43.0   \n",
       "0003_02           0.0                1.0               0.0  33.0          0.0   \n",
       "0004_01           0.0                0.0               1.0  16.0        303.0   \n",
       "...               ...                ...               ...   ...          ...   \n",
       "9276_01           1.0                1.0               0.0  41.0          0.0   \n",
       "9278_01           0.0                1.0               0.0  18.0          0.0   \n",
       "9279_01           0.0                0.0               1.0  26.0          0.0   \n",
       "9280_01           0.0                1.0               0.0  32.0          0.0   \n",
       "9280_02           0.0                0.0               1.0  44.0        126.0   \n",
       "\n",
       "             FoodCourt  ShoppingMall     Spa  VRDeck  \n",
       "PassengerId                                           \n",
       "0001_01            0.0           0.0     0.0     0.0  \n",
       "0002_01            9.0          25.0   549.0    44.0  \n",
       "0003_01         3576.0           0.0  6715.0    49.0  \n",
       "0003_02         1283.0         371.0  3329.0   193.0  \n",
       "0004_01           70.0         151.0   565.0     2.0  \n",
       "...                ...           ...     ...     ...  \n",
       "9276_01         6819.0           0.0  1643.0    74.0  \n",
       "9278_01            0.0           0.0     0.0     0.0  \n",
       "9279_01            0.0        1872.0     1.0     0.0  \n",
       "9280_01         1049.0           0.0   353.0  3235.0  \n",
       "9280_02         4688.0           0.0     0.0    12.0  \n",
       "\n",
       "[8693 rows x 18 columns]"
      ]
     },
     "execution_count": 13,
     "metadata": {},
     "output_type": "execute_result"
    }
   ],
   "source": [
    "X_transformed_df"
   ]
  },
  {
   "cell_type": "markdown",
   "id": "cf086183",
   "metadata": {
    "papermill": {
     "duration": 0.010209,
     "end_time": "2024-11-05T13:37:35.546736",
     "exception": false,
     "start_time": "2024-11-05T13:37:35.536527",
     "status": "completed"
    },
    "tags": []
   },
   "source": [
    "## 4- Encoding the label"
   ]
  },
  {
   "cell_type": "code",
   "execution_count": 14,
   "id": "533e3ef3",
   "metadata": {
    "execution": {
     "iopub.execute_input": "2024-11-05T13:37:35.569701Z",
     "iopub.status.busy": "2024-11-05T13:37:35.569216Z",
     "iopub.status.idle": "2024-11-05T13:37:35.578106Z",
     "shell.execute_reply": "2024-11-05T13:37:35.577059Z"
    },
    "papermill": {
     "duration": 0.023386,
     "end_time": "2024-11-05T13:37:35.580643",
     "exception": false,
     "start_time": "2024-11-05T13:37:35.557257",
     "status": "completed"
    },
    "tags": []
   },
   "outputs": [
    {
     "data": {
      "text/plain": [
       "PassengerId\n",
       "0001_01    False\n",
       "0002_01     True\n",
       "0003_01    False\n",
       "0003_02    False\n",
       "0004_01     True\n",
       "Name: Transported, dtype: bool"
      ]
     },
     "execution_count": 14,
     "metadata": {},
     "output_type": "execute_result"
    }
   ],
   "source": [
    "y.head()"
   ]
  },
  {
   "cell_type": "code",
   "execution_count": 15,
   "id": "cb124b25",
   "metadata": {
    "execution": {
     "iopub.execute_input": "2024-11-05T13:37:35.604179Z",
     "iopub.status.busy": "2024-11-05T13:37:35.603670Z",
     "iopub.status.idle": "2024-11-05T13:37:35.615539Z",
     "shell.execute_reply": "2024-11-05T13:37:35.614270Z"
    },
    "papermill": {
     "duration": 0.02655,
     "end_time": "2024-11-05T13:37:35.618094",
     "exception": false,
     "start_time": "2024-11-05T13:37:35.591544",
     "status": "completed"
    },
    "tags": []
   },
   "outputs": [
    {
     "data": {
      "text/plain": [
       "PassengerId\n",
       "0001_01    0\n",
       "0002_01    1\n",
       "0003_01    0\n",
       "0003_02    0\n",
       "0004_01    1\n",
       "          ..\n",
       "9276_01    0\n",
       "9278_01    0\n",
       "9279_01    1\n",
       "9280_01    0\n",
       "9280_02    1\n",
       "Name: Transported, Length: 8693, dtype: int64"
      ]
     },
     "execution_count": 15,
     "metadata": {},
     "output_type": "execute_result"
    }
   ],
   "source": [
    "from sklearn.preprocessing import LabelEncoder\n",
    "le = LabelEncoder()\n",
    "y_transformed_df = le.fit_transform(y)\n",
    "y_transformed_df = pd.Series(y_transformed_df , name=y.name , index=y.index)\n",
    "y_transformed_df"
   ]
  },
  {
   "cell_type": "markdown",
   "id": "eedf665a",
   "metadata": {
    "papermill": {
     "duration": 0.010397,
     "end_time": "2024-11-05T13:37:35.639150",
     "exception": false,
     "start_time": "2024-11-05T13:37:35.628753",
     "status": "completed"
    },
    "tags": []
   },
   "source": [
    "## 5- Feature scaling"
   ]
  }
 ],
 "metadata": {
  "kaggle": {
   "accelerator": "none",
   "dataSources": [
    {
     "databundleVersionId": 3220602,
     "sourceId": 34377,
     "sourceType": "competition"
    }
   ],
   "dockerImageVersionId": 30786,
   "isGpuEnabled": false,
   "isInternetEnabled": true,
   "language": "python",
   "sourceType": "notebook"
  },
  "kernelspec": {
   "display_name": "Python 3",
   "language": "python",
   "name": "python3"
  },
  "language_info": {
   "codemirror_mode": {
    "name": "ipython",
    "version": 3
   },
   "file_extension": ".py",
   "mimetype": "text/x-python",
   "name": "python",
   "nbconvert_exporter": "python",
   "pygments_lexer": "ipython3",
   "version": "3.10.14"
  },
  "papermill": {
   "default_parameters": {},
   "duration": 7.113828,
   "end_time": "2024-11-05T13:37:36.271380",
   "environment_variables": {},
   "exception": null,
   "input_path": "__notebook__.ipynb",
   "output_path": "__notebook__.ipynb",
   "parameters": {},
   "start_time": "2024-11-05T13:37:29.157552",
   "version": "2.6.0"
  }
 },
 "nbformat": 4,
 "nbformat_minor": 5
}
