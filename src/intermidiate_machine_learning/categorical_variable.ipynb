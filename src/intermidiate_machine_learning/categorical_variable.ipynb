{
 "cells": [
  {
   "cell_type": "markdown",
   "metadata": {},
   "source": [
    "# Categorical Variables"
   ]
  },
  {
   "cell_type": "code",
   "execution_count": 2,
   "metadata": {},
   "outputs": [],
   "source": [
    "import pandas as pd\n",
    "from sklearn.model_selection import train_test_split"
   ]
  },
  {
   "cell_type": "code",
   "execution_count": 4,
   "metadata": {},
   "outputs": [],
   "source": [
    "data = pd.read_csv(\"../data/melb_data.csv\")\n",
    "\n",
    "y = data.Price\n",
    "X = data.drop(\"Price\" , axis=1)\n",
    "\n",
    "X_train_full , X_test_full , y_train , y_test = train_test_split(X , y , random_state=1 , train_size=0.8 , test_size=0.2)\n",
    "columns_with_missing = [col for col in X_train_full.columns if X_train_full[col].isnull().any()]\n",
    "X_train_full.drop(columns_with_missing , axis=1 , inplace=True)\n",
    "X_test_full.drop(columns_with_missing , axis=1 , inplace=True)\n",
    "\n",
    "low_cardinality_cols = [cname for cname in X_train_full.columns if X_train_full[cname].nunique() < 10 and \n",
    "                        X_train_full[cname].dtype == \"object\"]\n",
    "\n",
    "numerical_columns = [col for col in X_train_full if X_train_full[col].dtype in ['int64' , 'float64']]\n",
    "\n",
    "my_cols = low_cardinality_cols + numerical_columns\n",
    "\n",
    "X_train = X_train_full[my_cols].copy()\n",
    "X_test = X_test_full[my_cols].copy()"
   ]
  },
  {
   "cell_type": "code",
   "execution_count": 81,
   "metadata": {},
   "outputs": [
    {
     "data": {
      "text/plain": [
       "['Type', 'Method', 'Regionname']"
      ]
     },
     "execution_count": 81,
     "metadata": {},
     "output_type": "execute_result"
    }
   ],
   "source": [
    "s = (X_train.dtypes == \"object\")\n",
    "object_cols = list(s[s].index)\n",
    "object_cols\n"
   ]
  },
  {
   "cell_type": "code",
   "execution_count": 76,
   "metadata": {},
   "outputs": [],
   "source": [
    "from sklearn.ensemble import RandomForestRegressor\n",
    "from sklearn.metrics import mean_absolute_error\n",
    "\n",
    "def score_dataset(X_train , X_test , y_train , y_test):\n",
    "    model = RandomForestRegressor(n_estimators=100 , random_state=1)\n",
    "    model.fit(X_train , y_train)\n",
    "    predict = model.predict(X_test)\n",
    "    return mean_absolute_error(y_test , predict)\n"
   ]
  },
  {
   "cell_type": "markdown",
   "metadata": {},
   "source": [
    "### Approach one - Drop columns"
   ]
  },
  {
   "cell_type": "code",
   "execution_count": 77,
   "metadata": {},
   "outputs": [
    {
     "data": {
      "text/plain": [
       "176556.1092096132"
      ]
     },
     "execution_count": 77,
     "metadata": {},
     "output_type": "execute_result"
    }
   ],
   "source": [
    "drop_X_train = X_train.select_dtypes(exclude=\"object\")\n",
    "drop_X_test = X_test.select_dtypes(exclude=\"object\")\n",
    "\n",
    "score_dataset(drop_X_train , drop_X_test , y_train , y_test)"
   ]
  },
  {
   "cell_type": "markdown",
   "metadata": {},
   "source": [
    "### Approach two - Ordinal Encoding"
   ]
  },
  {
   "cell_type": "code",
   "execution_count": 91,
   "metadata": {},
   "outputs": [
    {
     "data": {
      "text/plain": [
       "165018.58378760784"
      ]
     },
     "execution_count": 91,
     "metadata": {},
     "output_type": "execute_result"
    }
   ],
   "source": [
    "from sklearn.preprocessing import OrdinalEncoder\n",
    "\n",
    "label_X_train = X_train.copy()\n",
    "label_X_test = X_test.copy()\n",
    "\n",
    "ordinal_encoder = OrdinalEncoder()\n",
    "\n",
    "label_X_train[object_cols] = ordinal_encoder.fit_transform(X_train[object_cols])\n",
    "label_X_test[object_cols] = ordinal_encoder.transform(X_test[object_cols])\n",
    "\n",
    "\n",
    "score_dataset(label_X_train , label_X_test , y_train , y_test)\n"
   ]
  },
  {
   "cell_type": "markdown",
   "metadata": {},
   "source": [
    "### Approach three - One-hot Encoding"
   ]
  },
  {
   "cell_type": "code",
   "execution_count": 146,
   "metadata": {},
   "outputs": [
    {
     "data": {
      "text/plain": [
       "162363.08246142787"
      ]
     },
     "execution_count": 146,
     "metadata": {},
     "output_type": "execute_result"
    }
   ],
   "source": [
    "from sklearn.preprocessing import OneHotEncoder\n",
    "\n",
    "oh_encoder = OneHotEncoder(handle_unknown=\"ignore\" , sparse=False)\n",
    "\n",
    "oh_cols_train =  pd.DataFrame(oh_encoder.fit_transform(X_train[object_cols]) , columns=[item for array in oh_encoder.categories_ for item in array])\n",
    "oh_cols_test = pd.DataFrame(oh_encoder.transform(X_test[object_cols]) , columns=[item for array in oh_encoder.categories_ for item in array])\n",
    "\n",
    "\n",
    "oh_cols_train.index = X_train.index\n",
    "oh_cols_test.index = X_test.index\n",
    "\n",
    "oh_cols_train\n",
    "num_X_train = X_train.drop(object_cols, axis=1)\n",
    "num_X_test = X_test.drop(object_cols, axis=1)\n",
    "\n",
    "\n",
    "OH_X_train = pd.concat([num_X_train, oh_cols_train], axis=1)\n",
    "OH_X_test = pd.concat([num_X_test, oh_cols_test], axis=1)\n",
    "\n",
    "\n",
    "score_dataset(OH_X_train , OH_X_test , y_train , y_test)"
   ]
  }
 ],
 "metadata": {
  "kernelspec": {
   "display_name": "Python 3.10.8 ('kaggle')",
   "language": "python",
   "name": "python3"
  },
  "language_info": {
   "codemirror_mode": {
    "name": "ipython",
    "version": 3
   },
   "file_extension": ".py",
   "mimetype": "text/x-python",
   "name": "python",
   "nbconvert_exporter": "python",
   "pygments_lexer": "ipython3",
   "version": "3.10.8"
  },
  "orig_nbformat": 4,
  "vscode": {
   "interpreter": {
    "hash": "3a7e817fe7bcf917f982e15a962899581cba1d7ee6754e8e428237bd282a1ff7"
   }
  }
 },
 "nbformat": 4,
 "nbformat_minor": 2
}
